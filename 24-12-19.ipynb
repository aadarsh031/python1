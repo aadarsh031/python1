{
 "cells": [
  {
   "cell_type": "markdown",
   "metadata": {},
   "source": [
    "# welcome to zharki"
   ]
  },
  {
   "cell_type": "markdown",
   "metadata": {},
   "source": [
    "## zharki is best place in pubg\n"
   ]
  },
  {
   "cell_type": "markdown",
   "metadata": {},
   "source": [
    "### m249"
   ]
  },
  {
   "cell_type": "markdown",
   "metadata": {},
   "source": [
    "# to insert an image\n",
    "![]()\n",
    "![title](https://i.pinimg.com/originals/4c/eb/a4/4ceba4bca440e059ea29452534b380fa.jpg)"
   ]
  },
  {
   "cell_type": "markdown",
   "metadata": {},
   "source": [
    "<a href=\":https://www.google.com\">click me</a>"
   ]
  },
  {
   "cell_type": "markdown",
   "metadata": {},
   "source": []
  }
 ],
 "metadata": {
  "kernelspec": {
   "display_name": "Python 3",
   "language": "python",
   "name": "python3"
  },
  "language_info": {
   "codemirror_mode": {
    "name": "ipython",
    "version": 3
   },
   "file_extension": ".py",
   "mimetype": "text/x-python",
   "name": "python",
   "nbconvert_exporter": "python",
   "pygments_lexer": "ipython3",
   "version": "3.7.3"
  }
 },
 "nbformat": 4,
 "nbformat_minor": 2
}
